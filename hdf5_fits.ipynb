{
 "cells": [
  {
   "cell_type": "markdown",
   "metadata": {},
   "source": [
    "<table border=\"0\">\n",
    "    <tr>\n",
    "        <td>\n",
    "        <img src=\"./images/FITSlogo.gif\" width=\"300px\">\n",
    "        </td>\n",
    "        <td>\n",
    "        <img src=\"./images/HDFlogo.png\" width=\"300px\">\n",
    "        </td>  \n",
    "        <td>\n",
    "        <img src=\"./images/netcdf.png\" width=\"300px\">\n",
    "        </td>           \n",
    "    </tr>\n",
    "</table>\n",
    "<hr>"
   ]
  },
  {
   "cell_type": "code",
   "execution_count": 1,
   "metadata": {},
   "outputs": [],
   "source": [
    "import h5py\n",
    "import netCDF4\n",
    "from astropy.io import fits\n",
    "from astropy.utils.data import download_file\n",
    "import numpy as np\n",
    "import os\n",
    "import matplotlib\n",
    "import matplotlib.pyplot as plt\n",
    "from versioned_hdf5 import VersionedHDF5File\n",
    "import cv2, wget\n",
    "import time\n",
    "import pandas as pd\n",
    "import glob"
   ]
  },
  {
   "cell_type": "code",
   "execution_count": 2,
   "metadata": {},
   "outputs": [],
   "source": [
    "for file in glob.glob(\"*.h5\"):\n",
    "    os.remove(file)\n",
    "for file in glob.glob(\"*.hdf5\"):\n",
    "    os.remove(file)\n",
    "for file in glob.glob(\"*.fits\"):\n",
    "    os.remove(file)    "
   ]
  },
  {
   "cell_type": "markdown",
   "metadata": {},
   "source": [
    "# Comparison between FITS vs HDF vs NetCDF\n",
    "<hr>"
   ]
  },
  {
   "cell_type": "markdown",
   "metadata": {},
   "source": [
    "## Summary\n",
    "1. [Criteria for choosing a format](#choose_format)\n",
    "2. [User community / Sociability](#community)\n",
    "3. [Documentation](#documentation)\n",
    "4. [Freedom of use](#freedom)\n",
    "5. [Independence / autonomy](#autonomy)\n",
    "6. [Robustness](#robustness)\n",
    "7. [Compactness](#compactness)\n",
    "8. [Availability tools for processing tools](#availability)\n",
    "9. [Content additional embedded](#content)\n",
    "10. [Simplicity](#simplicity)\n",
    "11. [Stability](#stability)\n",
    "12. [Openness](#openness)\n",
    "13. [Expressivity](#expressivity)\n",
    "14. [Mastery](#mastery)\n",
    "15. [Processing](#processing)\n",
    "16. [Conclusion](#conclusion)\n"
   ]
  },
  {
   "cell_type": "markdown",
   "metadata": {},
   "source": [
    "# 1 - Criteria for choosing a format\n",
    "<a id=\"choose_format\"/>"
   ]
  },
  {
   "cell_type": "markdown",
   "metadata": {},
   "source": [
    "- **User community / Sociability** : Is the format widely used in its target community ? By conservation institutions ? The use of a format within its community is an indication of its suitability for the specific needs of that community. A format that is also used beyond curatorial institutions provides additional assurance, as the means of these institutions to maintain a format are limited compared to those of the cultural industries. This criterion is related to the availability of tools: the larger the user community, the more likely it is that it has developed or has had tools developed.\n",
    "- **Documentation** : Are the format specifications published? If so, are they maintained by a recognized standards body ? What is the their cost ? If the specifications of the format are freely available, it is possible accessible, it is possible for anyone to understand the structure and, if the format is also free, to develop tools that support it.\n",
    "- **Freedom of use** : Are there any legal barriers for the use of the format ? If a format can be totally open (documented and usable by anyone), it can also be and usable by anyone), it also happens that limitations on the use of documented formats documented formats, in particular because of patents granting industrial property rights registered for the benefit of a for the benefit of a given organization. These patents may limit or prohibit the development of of tools that support the format.\n",
    "- **Independence / autonomy** : Does the use of the format requires other formats, encodings, software or hardware environment ? The consultation and the use of a digital file are systematically dependent on a technical environment. In addition to the dependence on a software environment which can be proprietary, discussed in the criterion \"Freedom of use\", the use of certain formats is dependent on hardware environments, software libraries, or elements libraries, or elements that are not usually embedded in the file (for example, the dependence of most dependency of most PDFs on the fonts installed on the user's computer).\n",
    "- **Robustness** : Does the format have mechanisms to detect, ignore, or even correct corrupted portions of the signal? This criterion evaluates the resistance of files in this format to corruption. Corruption can be caused by media degradation or playback equipment error, but even more often it is caused by transfer interruption, such as network or connection failure. As a result, file formats to be exchanged over the network via streaming are often designed to be robust. Robustness includes the concepts of resilience and error resistance. It depends on the structure of the format. It can be reinforced by the presence of digital fingerprints characterizing each zone of a file, which allows a validation tool to identify precisely the corrupted zone.\n",
    "- **Compactness** : Does the format express a significant amount of information in a constrained space ? If this compactness is linked to a method of compression method, is it reversible (without loss of information) or not ? One of the major risks to the sustainability of data is the is the budgetary risk. If the budgets that the user can allocate to the purchase of storage space, the are limited, the criterion of compactness can become decisive. Compactness can be linked to the data encoding structure or, if applicable, to the structure of the data or, if applicable, the method of compression. Lossless compression, also known as \"reversible lossless compression, also known as \"reversible\" compression, generally allows a significant reduction in file size, while ensuring that the guaranteeing the possibility, thanks to the same method to decompress the file and obtain a bit-accurate copy of the exact copy of the source file, down to the bit.\n",
    "- **Availability tools for processing tools** : Are there any tools for restitution, validation, analysis, migration ? Is the organization responsible for format maintenance officially develop any?\n",
    "- **Content additional embedded** : Does the format allow to embed additional flows necessary for the use, identification and management of the file (metadata, documentation, associated visuals, etc.) ?\n",
    "- **Simplicity** : Does the format have a simple or complex structure ? Maintaining skills and tools in a complex format will necessarily require a higher investment than investment than on a simple format\n",
    "- **Stability / evolutivity** : Is the format undergoing a sustained evolution and versions that follow one another with succeed one another at a high frequency? \n",
    "- **Openness** : Is the format easily readable and understandable or is structure opaque? In the absence of specific tools, a relatively transparent format can be more easily interpreted and understood by a human interpreted and understood by a human using generic tools generic tools such as text, XML or hexadecimal editors. hexadecimal editors.\n",
    "- **Expressivity** : Does the format allow to encode all the information that the PDC wishes to express ?\n",
    "- **Mastery** : Does the user already have the skills and tools necessary for an accurate exploitation the format ? Because the PDC is entrusting their data to ESA, it is important that the format be controlled by both parties.\n",
    "- **Processing** : how fast to extract data and manipulate data from the file format ?\n",
    "\n"
   ]
  },
  {
   "cell_type": "markdown",
   "metadata": {},
   "source": [
    "# 2 - User community / Sociability\n",
    "<a id=\"community\"/>"
   ]
  },
  {
   "cell_type": "markdown",
   "metadata": {},
   "source": [
    "## 2.1 - FITS"
   ]
  },
  {
   "cell_type": "markdown",
   "metadata": {},
   "source": [
    "FITS is used traditionally in most of astronomical projects"
   ]
  },
  {
   "cell_type": "markdown",
   "metadata": {},
   "source": [
    "## 2.2 - HDF5"
   ]
  },
  {
   "cell_type": "markdown",
   "metadata": {},
   "source": [
    "<img src=\"images/HDFcontrib.png\">\n",
    "\n",
    "Gravitational wavelengths and radio astronomy actively use HDF5. NetCDF is used in Plasma Physics."
   ]
  },
  {
   "cell_type": "markdown",
   "metadata": {},
   "source": [
    "## 2.3 - Conclusion"
   ]
  },
  {
   "cell_type": "markdown",
   "metadata": {},
   "source": [
    "FITS is used by a wider astronomy community.\n",
    "\n",
    "| Criteria | FITS | HDF | NetCDF | Remarks |\n",
    "| -------- | ---- | --- |------- | ------- |\n",
    "| User community / Sociability | +++ | + | + |  |\n"
   ]
  },
  {
   "cell_type": "markdown",
   "metadata": {},
   "source": [
    "# 3 - Documentation\n",
    "<a id=\"documentation\"/>"
   ]
  },
  {
   "cell_type": "markdown",
   "metadata": {},
   "source": [
    "## 3.1 - FITS & HDF5/NetCDF"
   ]
  },
  {
   "cell_type": "markdown",
   "metadata": {},
   "source": [
    "<img src=\"images/fits_netcdf_hdf5_ogc.png\" with=\"250px\">\n",
    "\n",
    "- FITS : https://fits.gsfc.nasa.gov/standard40/fits_standard40aa-le.pdf\n",
    "- HDF5 : https://support.hdfgroup.org/HDF5/doc/H5.format.html\n",
    "- HDF5/OGC : https://www.ogc.org/standards/HDF5\n",
    "- NetCDF : https://www.unidata.ucar.edu/software/netcdf/docs/netcdf_data_model.html\n",
    "- NetCDF/OGC : https://www.ogc.org/standards/netcdf\n",
    "\n",
    "| Criteria | FITS | HDF | NetCDF | Remarks |\n",
    "| -------- | ---- | --- |------- | ------- |\n",
    "| format specifications published ? | 1 | 1 | 1 | https://fits.gsfc.nasa.gov/fits_standard.html, https://www.hdfgroup.org/, https://www.unidata.ucar.edu/software/netcdf/ |"
   ]
  },
  {
   "cell_type": "markdown",
   "metadata": {},
   "source": [
    "## 3.2 - Models (Extensions)"
   ]
  },
  {
   "cell_type": "markdown",
   "metadata": {},
   "source": [
    "### 3.2.1 - FITS"
   ]
  },
  {
   "cell_type": "markdown",
   "metadata": {},
   "source": [
    "Currently, it exists only two shared data model : \n",
    "- WCS (Word Coordinate System) from Calabretta\n",
    "- Hips (IVOA)"
   ]
  },
  {
   "cell_type": "markdown",
   "metadata": {},
   "source": [
    "### 3.2.2 - HDF5/NetCDF"
   ]
  },
  {
   "cell_type": "markdown",
   "metadata": {},
   "source": [
    "HDF5 data structure can define any data model.But the semantic of each attribute must be defined. \n",
    "That's why HDF5 provides other specifications for specific use cases :\n",
    "\n",
    "- Specification for image : https://support.hdfgroup.org/HDF5/doc/ADGuide/ImageSpec.html\n",
    "- Specification for Table : https://support.hdfgroup.org/HDF5/doc/HL/H5TB_Spec.html\n",
    "- Specification for dimension scale : https://support.hdfgroup.org/HDF5/doc/HL/H5DS_Spec.pdf\n",
    "\n",
    "Like these models are not defined a scientific data model, HDF5 use CF_Conventions from NetCDF :\n",
    "https://support.hdfgroup.org/HDF5/faq/cfattributes.html\n",
    "\n",
    "Several metadata conventions exist:\n",
    "\n",
    "- Attribute convention for data discovery : https://wiki.esipfed.org/Attribute_Convention_for_Data_Discovery_1-3\n",
    "- ISO metadata : https://wiki.esipfed.org/NetCDF,_HDF,_and_ISO_Metadata\n",
    "- Attribute convention for object discovery : https://wiki.esipfed.org/Attribute_Convention_for_Data_Discovery_Object_Conventions\n",
    "- more conventions : use \":Conventions = 'xxx'\" as global variable. Examples of conventions:\n",
    "   * https://cfconventions.org/,\n",
    "   * ftp://ftp.unidata.ucar.edu/pub/netcdf/Conventions/ (registry of conventions)\n",
    "   * author of new conventions should submit a request to support-netcdf@unidata.ucar.edu for listing on the FTP\n",
    "\n",
    "Another example without CF_conventions: https://cdn.knmi.nl/system/data_center_publications/files/000/066/255/original/hdftag35.pdf?1495620523\n",
    "\n",
    "<img src=\"https://www.frontiersin.org/files/Articles/437031/fmars-06-00442-HTML/image_m/fmars-06-00442-g002.jpg\">\n"
   ]
  },
  {
   "cell_type": "markdown",
   "metadata": {},
   "source": [
    "Softwares using CF conventions : https://cfconventions.org/software.html"
   ]
  },
  {
   "cell_type": "markdown",
   "metadata": {},
   "source": [
    "#### 3.2.2.1 - Image"
   ]
  },
  {
   "cell_type": "code",
   "execution_count": 3,
   "metadata": {},
   "outputs": [
    {
     "name": "stdout",
     "output_type": "stream",
     "text": [
      "Data shape: (500, 300, 4)\n",
      "Data type: <class 'numpy.ndarray'>\n"
     ]
    }
   ],
   "source": [
    "os.system('curl -O https://web.stanford.edu/~kterao/Homer.png')\n",
    "data=plt.imread('Homer.png')\n",
    "print('Data shape:',data.shape)\n",
    "print('Data type:',type(data))\n",
    "with h5py.File(\"image.h5\", \"w\") as f:\n",
    "    h = f.create_dataset(\"/images\", data=data)\n",
    "    h.attrs[\"CLASS\"] = np.string_(\"IMAGE\")\n",
    "    h.attrs[\"IMAGE_VERSION\"] = np.string_(\"1.2\")\n",
    "    h.attrs[\"IMAGE_SUBCLASS\"] = np.string_(\"IMAGE_GRAYSCALE\")\n",
    "    h.attrs[\"DISPLAY_ORIGIN\"] = np.string_(\"LL\")\n",
    "    h.attrs[\"IMAGE_WHITE_IS_ZERO\"] = np.uint8(0)"
   ]
  },
  {
   "cell_type": "markdown",
   "metadata": {},
   "source": [
    "#### 3.2.2.2 - Table"
   ]
  },
  {
   "cell_type": "markdown",
   "metadata": {},
   "source": [
    "Implementation : https://www.pytables.org/"
   ]
  },
  {
   "cell_type": "code",
   "execution_count": 4,
   "metadata": {},
   "outputs": [],
   "source": [
    "from tables import *\n",
    "class Particle(IsDescription):\n",
    "    identity = StringCol(itemsize=22, dflt=\" \", pos=0) # character String\n",
    "    idnumber = Int16Col(dflt=1, pos = 1) # short integer\n",
    "    speed = Float32Col(dflt=1, pos = 2) # single-precision\n",
    "    \n",
    "# Open a file in \"w\"rite mode\n",
    "fileh = open_file(\"table.h5\", mode = \"w\")\n",
    "\n",
    "# Get the HDF5 root group\n",
    "root = fileh.root\n",
    "\n",
    "# Create the groups\n",
    "group1 = fileh.create_group(root, \"group1\")\n",
    "group2 = fileh.create_group(root, \"group2\")\n",
    "\n",
    "# Now, create an array in root group\n",
    "array1 = fileh.create_array(root, \"array1\", [\"string\", \"array\"], \"String array\")\n",
    "\n",
    "# Create 2 new tables in group1\n",
    "table1 = fileh.create_table(group1, \"table1\", Particle)\n",
    "table2 = fileh.create_table(\"/group2\", \"table2\", Particle)\n",
    "\n",
    "# Create the last table in group2\n",
    "array2 = fileh.create_array(\"/group1\", \"array2\", [1,2,3,4])\n",
    "\n",
    "# Now, fill the tables\n",
    "for table in (table1, table2):\n",
    "    \n",
    "    # Get the record object associated with the table:\n",
    "    row = table.row\n",
    "    \n",
    "    # Fill the table with 10 records\n",
    "    for i in range(10):\n",
    "        \n",
    "        # First, assign the values to the Particle record\n",
    "        row['identity'] = 'This is particle: %2d' % (i)\n",
    "        row['idnumber'] = i\n",
    "        row['speed'] = i * 2.\n",
    "        \n",
    "        # This injects the Record values\n",
    "        row.append()\n",
    "        \n",
    "# Flush the table buffers\n",
    "table.flush()\n",
    "\n",
    "# Finally, close the file (this also will flush all the remaining buffers!)\n",
    "fileh.close()"
   ]
  },
  {
   "cell_type": "markdown",
   "metadata": {},
   "source": [
    "#### 3.2.2.3 - CF_conventions"
   ]
  },
  {
   "cell_type": "code",
   "execution_count": 5,
   "metadata": {},
   "outputs": [
    {
     "data": {
      "text/plain": [
       "<bound method File.close of <HDF5 file \"cf_example.h5\" (mode r+)>>"
      ]
     },
     "execution_count": 5,
     "metadata": {},
     "output_type": "execute_result"
    }
   ],
   "source": [
    "# Purpose:\n",
    "#  Demonstrates how to use python to add CF attributes to an h5 file. Creates \n",
    "#  a file with 3 datasets: lat, lon, temp. Lat contains the CF attributes: \n",
    "#  units, long_name, and standard_name. Lon has the same CF attributes as the \n",
    "#  latitude dataset. Temp contains the CF attributes: units, long_name, \n",
    "#  _FillValue, coordinates, valid_min, valid_max, valid_range, scale_factor, \n",
    "#  add_offset. Outputs data to cf_example.h5\n",
    "    \n",
    "import h5py \n",
    "import numpy \n",
    " \n",
    "file = h5py.File (\"cf_example.h5\", 'w')\n",
    "\n",
    "# initialize temperature array\n",
    "temp_array = numpy.ones ((180, 360), 'f')\n",
    "\n",
    "#  values between a[60][*] and a[120][*] is around 300.0\n",
    "for x in range (0, 60):\n",
    "    for y in range (0, 360):\n",
    "        temp_array[x][y] = 280.0 \n",
    "\n",
    "# values between a[0][*] and a[59][*], a[121][*] and a[179][*]\n",
    "#   is around 280.0\n",
    "    for x in range (60, 121):\n",
    "        for y in range (0, 360):\n",
    "            temp_array[x][y] = 300.0 \n",
    "\n",
    "    for x in range (121, 180):\n",
    "        for y in range (0, 360):\n",
    "            temp_array[x][y] = 280.0\n",
    "\n",
    "temp_dset = file.create_dataset ('temp', data=temp_array, chunks=(10,10), compression='gzip')\n",
    "\n",
    "temp_dset.attrs[\"long_name\"] = \"temperature\"\n",
    "temp_dset.attrs[\"units\"] = \"kelvin\"\n",
    "\n",
    "vlen = h5py.special_dtype (vlen = str)\n",
    "temp_dset.attrs.create ('coordinates', data = ['lat', 'lon'], \n",
    "            dtype=vlen) \n",
    "\n",
    "# must explicitly declare numerical data, or else the datatype is assumed\n",
    "#   to be F64LE (we want F32)\n",
    "temp_dset.attrs.create ('valid_min', data=0.0, dtype ='f')\n",
    "temp_dset.attrs.create ('valid_max', data=400.0, dtype ='f')\n",
    "vrange =[275, 305]\n",
    "temp_dset.attrs.create ('valid_range', data=vrange, dtype='f') \n",
    "temp_dset.attrs.create ('_FillValue', data=-999.0, dtype ='f') \n",
    "temp_dset.attrs.create ('scale_factor', data=1.0, dtype='f') \n",
    "temp_dset.attrs.create ('add_offset', data = 10.0, dtype = 'f')\n",
    "\n",
    "\n",
    "# ************  LATITUDE  ************\n",
    "lat_array = numpy.ones (180, 'f') \n",
    "for x in range (0, 180):\n",
    "    lat_array[x] = -90.0 + x\n",
    "\n",
    "lat_dset = file.create_dataset ('lat', data = lat_array) \n",
    "lat_dset.attrs[\"long_name\"] = \"latitude\"\n",
    "lat_dset.attrs[\"units\"] = \"degrees_north\"\n",
    "lat_dset.attrs[\"standard_name\"] = \"latitude\"\n",
    "\n",
    "\n",
    "# ************  LONGITUDE  ***********\n",
    "lon_array = numpy.ones (360, 'f') \n",
    "for x in range (0, 360):\n",
    "    lon_array[x] = -180.0 + x\n",
    "\n",
    "lon_dset = file.create_dataset ('lon', data = lon_array)\n",
    "lon_dset.attrs[\"long_name\"] = \"longitude\"\n",
    "lon_dset.attrs[\"units\"] = \"degrees_east\" \n",
    "lon_dset.attrs[\"standard_name\"]= \"longitude\"\n",
    "\n",
    "file.flush()\n",
    "file.close"
   ]
  },
  {
   "cell_type": "markdown",
   "metadata": {},
   "source": [
    "## 3.3 - Conclusion"
   ]
  },
  {
   "cell_type": "markdown",
   "metadata": {},
   "source": [
    "FITS lacks shared models which describe scientific data models (errors or data quality). Some might insist that this is an easily solved problem. Simply declare a keyword, like DQUALITY, and allow it to take a boolean value. Data quality cannot be judged on a single, or even a small set, of parameters. The data which are adequate for one type of use, may be wholly inadequate in another usage context. Science data may be unsuitable for other types of science. A data quality model then, should be an ensemble of common statistical measures of the type of dataset which may be used to derive higher-level judgments of the quality/suitability of the data for some other declared purpose. There are many higher types of data quality models which will need be created from the lower-level measures (image data quality, pointed catalog data quality, etc) and from these particular, targeted, statistical measures data quality may be judged by the dataset consumer without directly examining the data themselves.\n",
    "\n",
    "Archiving is a primary use case for FITS however it lacks a sufficiently rich model for capturing the history/provenance of the data. The HISTORY keyword provides just a textual representation of provenance which cannot be machine-read, and with a very loose meaning outside particular applications.\n",
    "\n",
    "When FITS files are produced by a space mission, how to reference the data model that is used to define the keywords in the FITS file ? There is no standard way.\n",
    "\n",
    "| Criteria | FITS | HDF | NetCDF | Remarks |\n",
    "| -------- | ---- | --- |------- | ------- |\n",
    "| Documentation | + | ++ | ++ |  |\n"
   ]
  },
  {
   "cell_type": "markdown",
   "metadata": {},
   "source": [
    "# 4 - Freedom of use\n",
    "<a id=\"freedom\" />"
   ]
  },
  {
   "cell_type": "markdown",
   "metadata": {},
   "source": [
    "## 4.1 - FITS"
   ]
  },
  {
   "cell_type": "markdown",
   "metadata": {},
   "source": [
    "Flexible Image Transport System (FITS) is an open standard defining a digital file forma\n",
    "\n",
    "Astropy is licensed under a 3-clause BSD style license"
   ]
  },
  {
   "cell_type": "markdown",
   "metadata": {},
   "source": [
    "## 4.2 - HDF5"
   ]
  },
  {
   "cell_type": "markdown",
   "metadata": {},
   "source": [
    "The Hierarchical Data Format version 5 (HDF5), is an open source file format that supports large, complex, heterogeneous data\n",
    "\n",
    "h5py license : BSD 3-Clause \"New\" or \"Revised\" License"
   ]
  },
  {
   "cell_type": "markdown",
   "metadata": {},
   "source": [
    "## 4.3 - Conclusion"
   ]
  },
  {
   "cell_type": "markdown",
   "metadata": {},
   "source": [
    "Both FITS and HDF5 are freedom of use"
   ]
  },
  {
   "cell_type": "markdown",
   "metadata": {},
   "source": [
    "| Criteria | FITS | HDF | NetCDF | Remarks |\n",
    "| -------- | ---- | --- |------- | ------- |\n",
    "| Freedom of use | + | + | + |  |"
   ]
  },
  {
   "cell_type": "markdown",
   "metadata": {},
   "source": [
    "# 5 - Independence / autonomy\n",
    "<a id=\"autonomy\"/>"
   ]
  },
  {
   "cell_type": "markdown",
   "metadata": {},
   "source": [
    "## 5.1 - FITS"
   ]
  },
  {
   "cell_type": "markdown",
   "metadata": {},
   "source": [
    "FITS is portable. However, an extra documentation is needed to understand the keywords. The file format cannot bring a document with this semantic and has no way to reference the data model in a standard way"
   ]
  },
  {
   "cell_type": "markdown",
   "metadata": {},
   "source": [
    "## 5.2 - HDF5/NetCDF4"
   ]
  },
  {
   "cell_type": "markdown",
   "metadata": {},
   "source": [
    "HDF5/NetCDF are portable. In addition, by using the CF_CONVENTIONS, the HDF5/NetCDF can reference the data model to share the semantics with users. In addition, the HDF5 could includ the PDF documentation of the semantic."
   ]
  },
  {
   "cell_type": "markdown",
   "metadata": {},
   "source": [
    "## 5.3 - Conclusion"
   ]
  },
  {
   "cell_type": "markdown",
   "metadata": {},
   "source": [
    "\n",
    "| Criteria | FITS | HDF | NetCDF | Remarks |\n",
    "| -------- | ---- | --- |------- | ------- |\n",
    "| Independence / autonomy | + | ++ | ++ |  |"
   ]
  },
  {
   "cell_type": "markdown",
   "metadata": {},
   "source": [
    "# 6 - Robustness\n",
    "<a id=\"robustness\" />"
   ]
  },
  {
   "cell_type": "markdown",
   "metadata": {},
   "source": [
    "## 6.1 - Integrity"
   ]
  },
  {
   "cell_type": "markdown",
   "metadata": {},
   "source": [
    "### Create a HDF5  and a FITS with checksum"
   ]
  },
  {
   "cell_type": "code",
   "execution_count": 6,
   "metadata": {},
   "outputs": [],
   "source": [
    "file_hdf5 = './mytestfile_checksum.hdf5'\n",
    "if os.path.exists(file_hdf5):\n",
    "    os.remove(file_hdf5)\n",
    "    \n",
    "# HDF5\n",
    "f = h5py.File('./mytestfile_checksum.hdf5', 'w')\n",
    "dset1 = f.create_dataset(\"Data1\", (1000,), fletcher32=True)\n",
    "g = f.create_group('/doc')\n",
    "dset2 = g.create_dataset(\"Data2\", (1000,), fletcher32=True)\n",
    "g = f.create_group('/doc1')\n",
    "dset3 = g.create_dataset(\"Data3\", (1000,))\n",
    "g = f.create_group('/doc2')\n",
    "dset3 = g.create_dataset(\"Data4\", (1000,), fletcher32=True)\n",
    "f.flush()\n",
    "f.close()"
   ]
  },
  {
   "cell_type": "code",
   "execution_count": 7,
   "metadata": {},
   "outputs": [],
   "source": [
    "file_fits = './test.fits'\n",
    "if os.path.exists(file_fits):\n",
    "    os.remove(file_fits)\n",
    "    \n",
    "# FITS\n",
    "data = np.zeros((1000, 1), dtype=np.float64)\n",
    "new_hdul = fits.HDUList()\n",
    "new_hdul.append(fits.ImageHDU(data=data))\n",
    "new_hdul.writeto('test.fits', checksum=True, overwrite=True)"
   ]
  },
  {
   "cell_type": "markdown",
   "metadata": {},
   "source": [
    "### 6.1.1 - Check checksum with HDF5\n",
    "\n",
    "HDF5 files do not have an error recovery mechanism and do not journal. Accidents happen. When you're storing or transmitting a multiterabyte dataset, you'dlike to be sure that the bytes that come out of the file are the same ones you put in. HDF5includes a checksum filter for just this purpose. It uses a 32-bit implementation ofFletcher's checksum, hence the name FLETCHER32.A checksum is computed when each chunk is written to the file, and recorded in thechunk's metadata. When the chunk is read, the checksum is computed again and com‐pared to the old one. If they don't match, an error is raised and the read fails."
   ]
  },
  {
   "cell_type": "code",
   "execution_count": 8,
   "metadata": {},
   "outputs": [
    {
     "name": "stdout",
     "output_type": "stream",
     "text": [
      "Data1 : test successful\n",
      "doc/Data2 : test successful\n",
      "doc2/Data4 : test successful\n"
     ]
    }
   ],
   "source": [
    "def check_fletcher(name, node):\n",
    "    if isinstance(node, h5py.Dataset) and node.fletcher32:\n",
    "       print (name,': ', end = '')\n",
    "       try:\n",
    "           test = node[:]\n",
    "           print ('test successful')\n",
    "       except:\n",
    "           print ('test failed')\n",
    "\n",
    "\n",
    "with h5py.File('./mytestfile_checksum.hdf5','r') as h5f:\n",
    "    h5f.visititems(check_fletcher)\n"
   ]
  },
  {
   "cell_type": "markdown",
   "metadata": {},
   "source": [
    "### 6.1.2 - Check checksum with NetCdf when the file is opened\n",
    "\n",
    "How do I know a CDF file is not corrupted or compromised?\n",
    "\n",
    "Several safety measures have been taken by the CDF since CDF V3.2.0 to \n",
    "ensure the data integrity in the CDF files. \n",
    " \n",
    "From CDF V3.2.0, the checksum feature was added. If the feature is used for a\n",
    "CDF, the file's checksum will be verified when it is accessed. \n",
    "Currently, MD5 checksum is the only algorithm used by CDF. \n",
    "\n",
    "Since CDF V3.2.1, the CDF file integrity is further enhanced so that the \n",
    "potential for a buffer overflow vulnerability in the code when\n",
    "reading specially-crafted (invalid) CDF files can be prevented. Various sanity \n",
    "checks were added in the code for data against their expected values or ranges.\n",
    "Any corrupted files are expected to be identified immediately when they are\n",
    "accessed. A standalone tool: CDFValidate (mentioned in Item 3: What CDF \n",
    "utility programs are available? in this page) is written to assist in validating\n",
    "a given CDF(s). "
   ]
  },
  {
   "cell_type": "code",
   "execution_count": 9,
   "metadata": {
    "scrolled": false
   },
   "outputs": [],
   "source": [
    "nc_fid = netCDF4.Dataset('./mytestfile_checksum.hdf5', 'r')\n",
    "data1 = nc_fid.variables['Data1']"
   ]
  },
  {
   "cell_type": "markdown",
   "metadata": {},
   "source": [
    "### 6.1.3 - Check checksum for Fits file"
   ]
  },
  {
   "cell_type": "code",
   "execution_count": 10,
   "metadata": {},
   "outputs": [],
   "source": [
    "hdun = fits.open('test.fits', checksum=True)\n",
    "hdun.close()"
   ]
  },
  {
   "cell_type": "markdown",
   "metadata": {},
   "source": [
    "## 6.2 - Format & metadata validation"
   ]
  },
  {
   "cell_type": "markdown",
   "metadata": {},
   "source": [
    "### 6.2.1 - FITS"
   ]
  },
  {
   "cell_type": "markdown",
   "metadata": {},
   "source": [
    "<img src=\"images/astropy.png\">"
   ]
  },
  {
   "cell_type": "markdown",
   "metadata": {},
   "source": [
    "### 6.2.2 - HDF5"
   ]
  },
  {
   "cell_type": "markdown",
   "metadata": {},
   "source": [
    "https://cerfacs.fr/coop/json-schema-for-sci-apps"
   ]
  },
  {
   "cell_type": "markdown",
   "metadata": {},
   "source": [
    "## 6.3 - Conclusion"
   ]
  },
  {
   "cell_type": "markdown",
   "metadata": {},
   "source": [
    "| Criteria | FITS | HDF | NetCDF | Remarks |\n",
    "| -------- | ---- | --- |------- | ------- |\n",
    "| Robustness | + | + | + |  |"
   ]
  },
  {
   "cell_type": "markdown",
   "metadata": {},
   "source": [
    "# 7 - Compactness\n",
    "<a id=\"compactness\" />"
   ]
  },
  {
   "cell_type": "code",
   "execution_count": 11,
   "metadata": {},
   "outputs": [
    {
     "name": "stdout",
     "output_type": "stream",
     "text": [
      "Filename: /home/malapert/.astropy/cache/download/url/ff6e0b93871033c68022ca026a956d87/contents\n",
      "No.    Name      Ver    Type      Cards   Dimensions   Format\n",
      "  0  PRIMARY       1 PrimaryHDU     161   (891, 893)   int16   \n",
      "  1  er.mask       1 TableHDU        25   1600R x 4C   [F6.2, F6.2, F6.2, F6.2]   \n"
     ]
    }
   ],
   "source": [
    "image_file = download_file('http://data.astropy.org/tutorials/FITS-images/HorseHead.fits', cache=True )\n",
    "hdu_list = fits.open(image_file)\n",
    "hdu_list.info()"
   ]
  },
  {
   "cell_type": "markdown",
   "metadata": {},
   "source": [
    "## 7.1 - FITS"
   ]
  },
  {
   "cell_type": "markdown",
   "metadata": {},
   "source": [
    "   ### Save as FITS and compressed FITS"
   ]
  },
  {
   "cell_type": "code",
   "execution_count": 12,
   "metadata": {},
   "outputs": [
    {
     "name": "stdout",
     "output_type": "stream",
     "text": [
      "Size of the non compressed file : 1607040\n",
      "Size of compressed file : 1140480\n"
     ]
    }
   ],
   "source": [
    "# remove the mask, we do not need\n",
    "del hdu_list[1]\n",
    "\n",
    "# save as FITS file\n",
    "hdu_list.writeto('./horse.fits', checksum=True, overwrite=True)\n",
    "\n",
    "# save as compressed FITS file\n",
    "hdu = fits.CompImageHDU(hdu_list[0].data, hdu_list[0].header)\n",
    "hdu.writeto('./horse_compress.fits', checksum=True, overwrite=True)\n",
    "\n",
    "# Retrieves the filse size\n",
    "non_compress = os.path.getsize('./horse.fits')\n",
    "compress = os.path.getsize('./horse_compress.fits')\n",
    "print(f\"Size of the non compressed file : {non_compress}\\nSize of compressed file : {compress}\")"
   ]
  },
  {
   "cell_type": "markdown",
   "metadata": {},
   "source": [
    "### Uncompress the FITS file and display it"
   ]
  },
  {
   "cell_type": "code",
   "execution_count": 13,
   "metadata": {},
   "outputs": [
    {
     "data": {
      "image/png": "[encoded data removed]",
      "text/plain": [
       "<Figure size 432x288 with 2 Axes>"
      ]
     },
     "metadata": {
      "needs_background": "light"
     },
     "output_type": "display_data"
    }
   ],
   "source": [
    "with fits.open('./horse_compress.fits') as hdul:\n",
    "    image = hdul[1] # When compress is apply, a primary HDU is created. The data is now in the second HDU\n",
    "    plt.imshow(image.data, cmap='gray')\n",
    "    plt.colorbar()"
   ]
  },
  {
   "cell_type": "markdown",
   "metadata": {},
   "source": [
    "### Other compression algorithms"
   ]
  },
  {
   "cell_type": "markdown",
   "metadata": {},
   "source": [
    "Several commonly used algorithms for compressing image tiles are supported. These include Gzip, Rice, IRAF Pixel List (PLIO), and Hcompress."
   ]
  },
  {
   "cell_type": "markdown",
   "metadata": {},
   "source": [
    "## 7.2 -  HDF5"
   ]
  },
  {
   "cell_type": "markdown",
   "metadata": {},
   "source": [
    "   ### Save as HDF5 and compressed HDF5"
   ]
  },
  {
   "cell_type": "code",
   "execution_count": 14,
   "metadata": {},
   "outputs": [
    {
     "name": "stdout",
     "output_type": "stream",
     "text": [
      "Size of the non compressed file : 1609904\n",
      "Size of compressed file : 964981\n"
     ]
    }
   ],
   "source": [
    "image = hdu_list[0]\n",
    "np_arr = image.data\n",
    "\n",
    "# Save as HDF5 file\n",
    "with h5py.File('./horse.hdf5', 'w') as f:\n",
    "    f.create_dataset(\"img\", data=np_arr, shape=np_arr.shape, fletcher32=True)\n",
    "    \n",
    "# Save as compressed HDF5 file\n",
    "with h5py.File('./horse_compress.hdf5', 'w') as f:\n",
    "    f.create_dataset(\"img\", data=np_arr, shape=np_arr.shape, fletcher32=True, compression='gzip', compression_opts=9)    \n",
    "\n",
    "# Retrieves the filse size\n",
    "non_compress = os.path.getsize('./horse.hdf5')\n",
    "compress = os.path.getsize('./horse_compress.hdf5')\n",
    "print(f\"Size of the non compressed file : {non_compress}\\nSize of compressed file : {compress}\")    "
   ]
  },
  {
   "cell_type": "markdown",
   "metadata": {},
   "source": [
    "### Uncompress the HDF5 file and display it"
   ]
  },
  {
   "cell_type": "code",
   "execution_count": 15,
   "metadata": {},
   "outputs": [
    {
     "data": {
      "image/png": "[encoded data removed]",
      "text/plain": [
       "<Figure size 432x288 with 2 Axes>"
      ]
     },
     "metadata": {
      "needs_background": "light"
     },
     "output_type": "display_data"
    }
   ],
   "source": [
    "with h5py.File('./horse_compress.hdf5', 'r') as f:\n",
    "    data = f['img']\n",
    "    plt.imshow(image.data, cmap='gray')\n",
    "    plt.colorbar()    "
   ]
  },
  {
   "cell_type": "markdown",
   "metadata": {},
   "source": [
    "### Lossless compression filters"
   ]
  },
  {
   "cell_type": "markdown",
   "metadata": {},
   "source": [
    "- **GZIP filter (\"gzip\")** : Available with every installation of HDF5, so it’s best where portability is required. Good compression, moderate speed. compression_opts sets the compression level and may be an integer from 0 to 9, default is 4.\n",
    "- **LZF filter (\"lzf\")** : Available with every installation of h5py (C source code also available). Low to moderate compression, very fast. No options.\n",
    "- **SZIP filter (\"szip\")** : Patent-encumbered filter used in the NASA community. Not available with all installations of HDF5 due to legal reasons. Consult the HDF5 docs for filter options.\n",
    "\n",
    "It is possible to apply custom compression filters by the plugin mechanism and to improve the compression by the options : Scale-Offset filter, Shuffle filter"
   ]
  },
  {
   "cell_type": "markdown",
   "metadata": {},
   "source": [
    "## 7.3 - Conclusion"
   ]
  },
  {
   "cell_type": "markdown",
   "metadata": {},
   "source": [
    "| Criteria | FITS | HDF5 | NetCDF | Remarks |\n",
    "| -------- | ---- | --- |------- | ------- |\n",
    "| Compactness | + | ++ | ++ | one '+' for FITS/HDF5/NetCDF4 because it is possible to add compression algorihtm by a plugin system| "
   ]
  },
  {
   "cell_type": "markdown",
   "metadata": {},
   "source": [
    "# 8 - Availability tools for processing tools\n",
    "<a id=\"availability\" />"
   ]
  },
  {
   "cell_type": "markdown",
   "metadata": {},
   "source": [
    "\n",
    "| Criteria | FITS | HDF | NetCDF | Remarks |\n",
    "| -------- | ---- | --- |------- | ------- |\n",
    "| Availability tools for processing tools | + | + | + |  |"
   ]
  },
  {
   "cell_type": "markdown",
   "metadata": {},
   "source": [
    "# 9 - Content additional embedded\n",
    "<a id=\"content\" />"
   ]
  },
  {
   "cell_type": "markdown",
   "metadata": {},
   "source": [
    "## 9.1 - FITS"
   ]
  },
  {
   "cell_type": "markdown",
   "metadata": {},
   "source": [
    "A FITS file is flat container that holds the following data objects :\n",
    "- Table\n",
    "- Image\n",
    "- Data cube"
   ]
  },
  {
   "cell_type": "code",
   "execution_count": 16,
   "metadata": {},
   "outputs": [
    {
     "name": "stdout",
     "output_type": "stream",
     "text": [
      "Filename: fits_content.fits\n",
      "No.    Name      Ver    Type      Cards   Dimensions   Format\n",
      "  0  PRIMARY       1 PrimaryHDU       4   ()      \n",
      "  1                1 ImageHDU         6   (100,)   float64   \n",
      "  2                1 BinTableHDU     22   4R x 6C   [10A, J, 10A, 10E, L, 4I]   \n",
      "None\n"
     ]
    }
   ],
   "source": [
    "# create binary Table\n",
    "counts = np.array([312, 334, 308, 317])\n",
    "names = np.array(['NGC1', 'NGC2', 'NGC3', 'NGC4'])\n",
    "values = np.arange(2*2*4).reshape(4, 2, 2)\n",
    "col1 = fits.Column(name='target', format='10A', array=names)\n",
    "col2 = fits.Column(name='counts', format='J', unit='DN', array=counts)\n",
    "col3 = fits.Column(name='notes', format='A10')\n",
    "col4 = fits.Column(name='spectrum', format='10E')\n",
    "col5 = fits.Column(name='flag', format='L', array=[True, False, True, True])\n",
    "col6 = fits.Column(name='intarray', format='4I', dim='(2, 2)', array=values)\n",
    "coldefs = fits.ColDefs([col1, col2, col3, col4, col5, col6])\n",
    "hdu_table = fits.BinTableHDU.from_columns(coldefs)\n",
    "\n",
    "# Create an Image\n",
    "n = np.arange(100.0)\n",
    "hdu_image = fits.ImageHDU(n)\n",
    "\n",
    "# Create the FITS file\n",
    "new_hdul = fits.HDUList()\n",
    "new_hdul.append(fits.PrimaryHDU())\n",
    "new_hdul.append(hdu_image)\n",
    "new_hdul.append(hdu_table)\n",
    "new_hdul.writeto('fits_content.fits', overwrite=True)\n",
    "\n",
    "# open the file\n",
    "with fits.open('fits_content.fits') as hdul:\n",
    "    print(hdul.info())"
   ]
  },
  {
   "cell_type": "markdown",
   "metadata": {},
   "source": [
    "## 9.2 - HDF5 / NetCDF4"
   ]
  },
  {
   "cell_type": "markdown",
   "metadata": {},
   "source": [
    "An HDF5 file (an object in itself) can be thought of as a container (or group) that holds a variety of heterogeneous data objects (or datasets). The datasets can be images, tables, graphs, and even documents, such as PDF or Excel:\n",
    "\n",
    "<img src=\"images/fileobj.png\" width=\"400px\">"
   ]
  },
  {
   "cell_type": "code",
   "execution_count": 17,
   "metadata": {},
   "outputs": [],
   "source": [
    "with h5py.File('./corot_102708694.hdf5', 'w') as file:\n",
    "    file.attrs.create(\"corot_id\",102708694)\n",
    "\n",
    "    star_group = file.create_group('star')\n",
    "    star_preview_group = file.create_group('/star/preview')\n",
    "    star_coordinates_group = file.create_group('/star/coordinates')\n",
    "    star_magnitudes_group = file.create_group('/star/magnitudes')\n",
    "    star_spectral_class_group = file.create_group('/star/spectral_classification')\n",
    "    star_contamination_l0_group = file.create_group('/star/contamination_l0')\n",
    "    star_catalogs_references = file.create_group('/star/catalogs_references')\n",
    "\n",
    "    star_coordinates_group.attrs.create(\"ra_deg\", 100.956126)\n",
    "    star_coordinates_group.attrs.create(\"dec_deg\", -1.063014)\n",
    "    star_coordinates_group.attrs.create(\"dec_deg\", -1.063014)\n",
    "    star_coordinates_group.attrs.create(\"ra_hms\", \"06:43:49.470\")\n",
    "    star_coordinates_group.attrs.create(\"dec_hms\", \"-01:03:46.850\")  \n",
    "\n",
    "    star_magnitudes_group.attrs.create(\"B\", \"12.78\")\n",
    "    star_magnitudes_group.attrs.create(\"V\", \"11.72\")\n",
    "    star_magnitudes_group.attrs.create(\"R\", \"11.87\")\n",
    "    star_magnitudes_group.attrs.create(\"J\", \"10.301±0.024\")\n",
    "    star_magnitudes_group.attrs.create(\"H\", \"9.88±0.022\")\n",
    "    star_magnitudes_group.attrs.create(\"K\", \"9.806±0.021\")\n",
    "\n",
    "    observations_group = file.create_group('observations')\n",
    "    spectras_group = file.create_group('spectras')\n",
    "    planets_group = file.create_group('planets')\n",
    "\n",
    "    star_spectral_class_group.attrs.create(\"Spectral type (SED)\", \"G0\")\n",
    "    star_spectral_class_group.attrs.create(\"Luminosity class (SED)\", \"IV\")\n",
    "    star_spectral_class_group.attrs.create(\"E(B-V) (SED)\", 0.15)\n",
    "\n",
    "    star_catalogs_references.attrs.create(\"PPMXL\", \"http://vizier.u-strasbg.fr/viz-bin/VizieR-5?-ref=VIZ50b4975daec&-out.add=.&-source=I/317/sample&PPMXL===2791718448871534422\")\n",
    "    star_catalogs_references.attrs.create(\"OBS_CAT\", \"http://cesam.oamp.fr/exodat/quick-access/obscat-info?id=102708694\")\n",
    "    star_catalogs_references.attrs.create(\"USNO-A2\", \"http://vizier.u-strasbg.fr/viz-bin/VizieR-5?-ref=VIZ50b49b77187f&-out.add=.&-source=I/252/out&USNO-A2.0===0825-03049717\")\n",
    "    star_catalogs_references.attrs.create(\"CMC14\", \"http://vizier.u-strasbg.fr/viz-bin/VizieR-5?-ref=VIZ50b49bd277da&-out.add=.&-source=I/304/out&CMC14===064349.4-010346\")\n",
    "    star_catalogs_references.attrs.create(\"TYCHO2\", \"http://vizier.u-strasbg.fr/viz-bin/VizieR-5?-ref=VIZ50b49d742133&-out.add=.&-source=I/259/tyc2&recno=1235387\")\n",
    "    star_catalogs_references.attrs.create(\"UCAC2_CAT\", \"http://vizier.u-strasbg.fr/viz-bin/VizieR-5?-ref=VIZ50b49cf22978&-out.add=.&-source=I/289/out&2UCAC=31290682\")\n",
    "\n",
    "    image_filename = \"http://cesam.oamp.fr/corot-findingcharts/fieldmap.pl?102708694\"\n",
    "    filename = wget.download(image_filename)\n",
    "    np_image = cv2.imread(filename)\n",
    "    dset = star_group.create_dataset('img', data=np_image)\n",
    "\n",
    "    xmldata = \"\"\"<xml>\n",
    "    <something>\n",
    "        <else>Text</else>\n",
    "    </something>\n",
    "    </xml>\n",
    "    \"\"\"\n",
    "    str_type = h5py.special_dtype(vlen=str)\n",
    "    ds = file.create_dataset('/quality/something.xml', shape=(1,), dtype=str_type)\n",
    "    ds[:] = xmldata"
   ]
  },
  {
   "cell_type": "code",
   "execution_count": 18,
   "metadata": {},
   "outputs": [
    {
     "name": "stdout",
     "output_type": "stream",
     "text": [
      "observations\n",
      "planets\n",
      "quality\n",
      "    something.xml\n",
      "spectras\n",
      "star\n",
      "    catalogs_references\n",
      "        CMC14: http://vizier.u-strasbg.fr/viz-bin/VizieR-5?-ref=VIZ50b49bd277da&-out.add=.&-source=I/304/out&CMC14===064349.4-010346\n",
      "        OBS_CAT: http://cesam.oamp.fr/exodat/quick-access/obscat-info?id=102708694\n",
      "        PPMXL: http://vizier.u-strasbg.fr/viz-bin/VizieR-5?-ref=VIZ50b4975daec&-out.add=.&-source=I/317/sample&PPMXL===2791718448871534422\n",
      "        TYCHO2: http://vizier.u-strasbg.fr/viz-bin/VizieR-5?-ref=VIZ50b49d742133&-out.add=.&-source=I/259/tyc2&recno=1235387\n",
      "        UCAC2_CAT: http://vizier.u-strasbg.fr/viz-bin/VizieR-5?-ref=VIZ50b49cf22978&-out.add=.&-source=I/289/out&2UCAC=31290682\n",
      "        USNO-A2: http://vizier.u-strasbg.fr/viz-bin/VizieR-5?-ref=VIZ50b49b77187f&-out.add=.&-source=I/252/out&USNO-A2.0===0825-03049717\n",
      "    contamination_l0\n",
      "    coordinates\n",
      "        dec_deg: -1.063014\n",
      "        dec_hms: -01:03:46.850\n",
      "        ra_deg: 100.956126\n",
      "        ra_hms: 06:43:49.470\n",
      "    img\n",
      "    magnitudes\n",
      "        B: 12.78\n",
      "        H: 9.88±0.022\n",
      "        J: 10.301±0.024\n",
      "        K: 9.806±0.021\n",
      "        R: 11.87\n",
      "        V: 11.72\n",
      "    preview\n",
      "    spectral_classification\n",
      "        E(B-V) (SED): 0.15\n",
      "        Luminosity class (SED): IV\n",
      "        Spectral type (SED): G0\n"
     ]
    }
   ],
   "source": [
    "def print_attrs(name, obj):\n",
    "    # Create indent\n",
    "    shift = name.count('/') * '    '\n",
    "    item_name = name.split(\"/\")[-1]\n",
    "    print(shift + item_name)\n",
    "    try:\n",
    "        for key, val in obj.attrs.items():\n",
    "            print(shift + '    ' + f\"{key}: {val}\")\n",
    "    except:\n",
    "        pass\n",
    "        \n",
    "f = h5py.File('./corot_102708694.hdf5','r')\n",
    "f.visititems(print_attrs)\n",
    "f.close()"
   ]
  },
  {
   "cell_type": "code",
   "execution_count": 19,
   "metadata": {},
   "outputs": [
    {
     "name": "stdout",
     "output_type": "stream",
     "text": [
      "b'<xml>\\n    <something>\\n        <else>Text</else>\\n    </something>\\n    </xml>\\n    '\n"
     ]
    }
   ],
   "source": [
    "f = h5py.File('./corot_102708694.hdf5', 'r')\n",
    "print(f['quality']['something.xml'][0])\n",
    "f.close()"
   ]
  },
  {
   "cell_type": "code",
   "execution_count": 20,
   "metadata": {},
   "outputs": [
    {
     "data": {
      "text/plain": [
       "<matplotlib.colorbar.Colorbar at 0x7f8f60e1a130>"
      ]
     },
     "execution_count": 20,
     "metadata": {},
     "output_type": "execute_result"
    },
    {
     "data": {
      "image/png": "[encoded data removed]",
      "text/plain": [
       "<Figure size 432x288 with 2 Axes>"
      ]
     },
     "metadata": {
      "needs_background": "light"
     },
     "output_type": "display_data"
    }
   ],
   "source": [
    "f = h5py.File('./corot_102708694.hdf5', 'r')\n",
    "image = f['star']['img'][:]\n",
    "plt.imshow(image.data, cmap='gray')\n",
    "plt.colorbar() "
   ]
  },
  {
   "cell_type": "markdown",
   "metadata": {},
   "source": [
    "## 9.3 - Conclusion"
   ]
  },
  {
   "cell_type": "markdown",
   "metadata": {},
   "source": [
    "SAS processing will generate files from the pipelines. For each file, a set of files will have to be attached to better define the scientific files:\n",
    "- pipeline configuration management: inputs, outputs, pipeline configuration parameters, pipeline version\n",
    "- data quality: currently only a tag is required but it would be surprising if other information were not added such as a preview or more complex information\n",
    "\n",
    "For all these reasons, the use of HDF5 is an advantage compared to FITS because HDF5 allows to create one and only one file, allowing easier data management and data transfer\n",
    "\n",
    "\n",
    "| Criteria | FITS | HDF | NetCDF | Remarks |\n",
    "| -------- | ---- | --- |------- | ------- |\n",
    "| Content additional embedded | + | +++ | +++ | |"
   ]
  },
  {
   "cell_type": "markdown",
   "metadata": {},
   "source": [
    "# 10 - Simplicity\n",
    "<a id=\"simplicity\" />"
   ]
  },
  {
   "cell_type": "markdown",
   "metadata": {},
   "source": [
    "Both FITS and HDF5/NetCDF have a simple data model. FITS is a bit simple because metadata are visible as ASCII by opening the file by an editor.\n",
    "\n",
    "| Criteria | FITS | HDF | NetCDF | Remarks |\n",
    "| -------- | ---- | --- |------- | ------- |\n",
    "| Simplicity | ++ | + | + |  |"
   ]
  },
  {
   "cell_type": "markdown",
   "metadata": {},
   "source": [
    "# 11 - Stability / evolutivity\n",
    "<a id=\"stability\"/>"
   ]
  },
  {
   "cell_type": "markdown",
   "metadata": {},
   "source": [
    "## 11.1 - FITS"
   ]
  },
  {
   "cell_type": "markdown",
   "metadata": {},
   "source": [
    "There is no standard way to specify the version of a given FITS file. Consider that three keywords have been deprecated (BLOCKED, CROTA2 and EPOCH) by the latest version of FITS. Per the standard, these are “obsolete structures that should not be used in new FITS files but which shall remain valid indefinitely” ! As time passes and changes of this nature accumulate, it will be progressively harder to interpret FITS data correctly\n",
    "\n",
    "There is no standard way to specify what extensions it supports of a given FITS file. You must read the file and determine dynamically which extensions are present and whether they are understood.\n",
    "\n",
    "Explicit versioning of FITS files will help but there also needs to be a way to declare that a particular data model is being used and to validate the contents against a namespaced schema.\n",
    "\n"
   ]
  },
  {
   "cell_type": "markdown",
   "metadata": {},
   "source": [
    "## 11.2 - HDF5"
   ]
  },
  {
   "cell_type": "markdown",
   "metadata": {},
   "source": [
    "### 11.2.1 - Version of the library"
   ]
  },
  {
   "cell_type": "markdown",
   "metadata": {},
   "source": [
    "HDF5 has been evolving for many years now. By default, the library will write objects in the most compatible fashion possible, so that older versions will still be able to read files generated by modern programs. However, there can be feature or performance advantages if you are willing to forgo a certain level of backwards compatibility. By using the “libver” option to File, you can specify the minimum and maximum sophistication of these structures:"
   ]
  },
  {
   "cell_type": "code",
   "execution_count": 21,
   "metadata": {},
   "outputs": [],
   "source": [
    "f = h5py.File('./horse.hdf5', libver='earliest') # most compatible\n",
    "f = h5py.File('./horse.hdf5', libver='latest')   # most modern"
   ]
  },
  {
   "cell_type": "markdown",
   "metadata": {},
   "source": [
    "Here “latest” means that HDF5 will always use the newest version of these structures without particular concern for backwards compatibility. The “earliest” option means that HDF5 will make a best effort to be backwards compatible.\n",
    "\n",
    "The default is “earliest”.\n",
    "\n",
    "Specifying version bounds has changed from HDF5 version 1.10.2. There are two new compatibility levels: v108 (for HDF5 1.8) and v110 (for HDF5 1.10). This change enables, for example, something like this:"
   ]
  },
  {
   "cell_type": "code",
   "execution_count": 22,
   "metadata": {},
   "outputs": [],
   "source": [
    "f = h5py.File('./horse.hdf5', libver=('earliest', 'v108'))"
   ]
  },
  {
   "cell_type": "markdown",
   "metadata": {},
   "source": [
    "which enforces full backward compatibility up to HDF5 1.8. Using any HDF5 feature that requires a newer format will raise an error.\n",
    "\n",
    "latest is now an alias to another bound label that represents the latest version. Because of this, the File.libver property will not use latest in its output for HDF5 1.10.2 or later."
   ]
  },
  {
   "cell_type": "markdown",
   "metadata": {},
   "source": [
    "### 11.2.2 - Versionning a file"
   ]
  },
  {
   "cell_type": "code",
   "execution_count": 23,
   "metadata": {},
   "outputs": [
    {
     "data": {
      "text/plain": [
       "<Committed InMemoryGroup \"/_version_data/versions/version1\">"
      ]
     },
     "execution_count": 23,
     "metadata": {},
     "output_type": "execute_result"
    }
   ],
   "source": [
    "fileobject = h5py.File('mydata.h5', 'w')\n",
    "versioned_file = VersionedHDF5File(fileobject)\n",
    "with versioned_file.stage_version('version1') as group:\n",
    "    group['mydataset'] = np.ones(10000)                                 \n",
    "v1 = versioned_file['version1']\n",
    "v1                          "
   ]
  },
  {
   "cell_type": "code",
   "execution_count": 24,
   "metadata": {},
   "outputs": [
    {
     "data": {
      "text/plain": [
       "<InMemoryArrayDataset \"mydataset\": shape (10000,), type \"<f8\">"
      ]
     },
     "execution_count": 24,
     "metadata": {},
     "output_type": "execute_result"
    }
   ],
   "source": [
    "v1['mydataset']"
   ]
  },
  {
   "cell_type": "code",
   "execution_count": 25,
   "metadata": {},
   "outputs": [
    {
     "data": {
      "text/plain": [
       "<Committed InMemoryGroup \"/_version_data/versions/version2\">"
      ]
     },
     "execution_count": 25,
     "metadata": {},
     "output_type": "execute_result"
    }
   ],
   "source": [
    "with versioned_file.stage_version('version2') as group:\n",
    "    group['mydataset'][0] = -10\n",
    "v2 = versioned_file['version2']\n",
    "v2 "
   ]
  },
  {
   "cell_type": "code",
   "execution_count": 26,
   "metadata": {},
   "outputs": [
    {
     "data": {
      "text/plain": [
       "array([1., 1., 1., ..., 1., 1., 1.])"
      ]
     },
     "execution_count": 26,
     "metadata": {},
     "output_type": "execute_result"
    }
   ],
   "source": [
    "v1['mydataset'][()]"
   ]
  },
  {
   "cell_type": "code",
   "execution_count": 27,
   "metadata": {},
   "outputs": [
    {
     "data": {
      "text/plain": [
       "array([-10.,   1.,   1., ...,   1.,   1.,   1.])"
      ]
     },
     "execution_count": 27,
     "metadata": {},
     "output_type": "execute_result"
    }
   ],
   "source": [
    "v2['mydataset'][()]"
   ]
  },
  {
   "cell_type": "markdown",
   "metadata": {},
   "source": [
    "## 11.3 - Conclusion"
   ]
  },
  {
   "cell_type": "markdown",
   "metadata": {},
   "source": [
    "HDF5 supports multiple versions of the file format specification, which FITS is not capable of. Furthermore, thanks to the structure of HDF5, a file can be managed in version"
   ]
  },
  {
   "cell_type": "markdown",
   "metadata": {},
   "source": [
    "| Criteria | FITS | HDF | NetCDF | Remarks |\n",
    "| -------- | ---- | --- |------- | ------- |\n",
    "| Stability / evolutivity | + | +++ | +++ |  |"
   ]
  },
  {
   "cell_type": "markdown",
   "metadata": {},
   "source": [
    "# 12 - Openness\n",
    "<a id=\"openness\">"
   ]
  },
  {
   "cell_type": "markdown",
   "metadata": {},
   "source": [
    "Both FITS and HDF5/NetCDF have a strucure easy to understand\n",
    "\n",
    "| Criteria | FITS | HDF | NetCDF | Remarks |\n",
    "| -------- | ---- | --- |------- | ------- |\n",
    "| Openness | + | + | + |  |"
   ]
  },
  {
   "cell_type": "markdown",
   "metadata": {},
   "source": [
    "# 13 - Expressivity\n",
    "<a id=\"expressivity\" />"
   ]
  },
  {
   "cell_type": "markdown",
   "metadata": {},
   "source": [
    "## 13-1 - FITS¶\n"
   ]
  },
  {
   "cell_type": "markdown",
   "metadata": {},
   "source": [
    "Flexible Image Transport System (FITS)1 is a standard format for exchanging astronomical data, independent of the hardware platform and software environment.\n",
    "A file in FITS format consists of a series of Header Data Units (HDUs), each containing two components: an ASCII text header and the binary data. The header contains a series of keywords that describe the data in a particular HDU and the data component may immediately follow the header.\n",
    "For HST FITS files, the first HDU, or primary header, contains no data. The primary header may be followed by one or more HDUs called extensions. Extensions may take the form of images, binary tables, or ASCII text tables. The data type for each extension is recorded in the XTENSION header keyword\n",
    "\n",
    "<img src=\"images/fits_dm.png\">\n",
    "\n",
    "The 80-character card image drives a number of subsequent limitations which result in poor metadata description (8-character keyword, 68-character limit in keyword values, and cumbersome CONTINUE card constructs). This out-dated restriction also results in the awkward implementation of some conventions, such as ESO HIERARCH (Wicenec et al. 2009), that can not overcome the underlying limitations of representation.\n",
    "\n",
    "Additionally, the lack of namespaces results in uncertainty over metadata meaning with other FITS files. Finally, the 2880 record is a minor but annoying restriction which results in wasteful blocks of whitespace in many FITS files, hampers the use of FITS to capture very small, but richly described data, and impedes the real-time writing of FITS files.\n",
    "\n",
    "Missing values are a common feature of most datasets, and are distinct from invalid values (such as NaN or Not a Number) that may occur for example in floating point calculations. For images with integer data types, one can make use of the BLANK keyword to represent missing values, and for tables with integer and string columns, one can make use of the TNULL header keyword. However, for floating point images or table columns, there is no mechanism for specifying missing values. This has led to the common use of NaN to represent missing floating point values. However, one should carefully distinguish between true missing values (which in an image could indicate for example an area of sky that was not observed), versus an invalid value (represented by NaN) which may represent for example a saturated pixel; such a distinction is not currently possible in FITS.\n",
    "\n",
    "The allowed character set in FITS of 7-bit US-ASCII is overly restrictive in an Unicode world (not possible to define scientific or mathematical symbols - very strange for scientific format !).\n"
   ]
  },
  {
   "cell_type": "markdown",
   "metadata": {},
   "source": [
    "## 13.2 - HDF5 / NetCDF"
   ]
  },
  {
   "cell_type": "markdown",
   "metadata": {},
   "source": [
    "The HDF5 Data Model, also known as the HDF5 Abstract (or Logical) Data Model consists of the building blocks for data organization and specification in HDF5.\n",
    "\n",
    "<img src=\"images/hdf5_group.png\" width=\"600px\">\n",
    "\n",
    "\n",
    "As below, the different data models for both HDF5 and NetCDF4: \n",
    "\n",
    "<table border=\"0\">\n",
    "    <tr><td><img src=\"images/hdf5_dm.jpeg\"></td><td><img src=\"images/nc4_dm.png\"><td></tr>\n",
    "    <tr><td><i>HDF5 Data model</i></td><td><i>NetCDF 4 Data model</i></td></tr>\n",
    "</table>\n",
    "\n",
    "The mapping of the concepts between HDF5/NetCDF4:\n",
    "\n",
    "| NetCDF            |   HDF5        |\n",
    "|-------------------|---------------|\n",
    "|Dataset            |HDF5 file      |\n",
    "|Dimensions         |Dataspace      |\n",
    "|Attribute          |Attribute      |\n",
    "|Variable           |Dataset        |\n",
    "|Coordinate Variable|Dimension scale|\n",
    "\n",
    "HDF5/NetCDF4 handles UTF-8"
   ]
  },
  {
   "cell_type": "markdown",
   "metadata": {},
   "source": [
    "## 13.3 - Mapping FITS/HDF5"
   ]
  },
  {
   "cell_type": "markdown",
   "metadata": {},
   "source": [
    "<img src=\"images/mapping_fits_hdf5.png\">\n",
    "<img src=\"images/mapping_fits_hdf5_2.png\">"
   ]
  },
  {
   "cell_type": "markdown",
   "metadata": {},
   "source": [
    "| Criteria | FITS | HDF | NetCDF | Remarks |\n",
    "| -------- | ---- | --- |------- | ------- |\n",
    "| Does the format allow to encode all the information that the producer wishes to express ? | to | to | to | to |"
   ]
  },
  {
   "cell_type": "markdown",
   "metadata": {},
   "source": [
    "## 13.4 - Conclusion"
   ]
  },
  {
   "cell_type": "markdown",
   "metadata": {},
   "source": [
    "FITS can support basic data models such as tables and multi-dimensional images but lacks many higher level data models which enable scientific data description. To start with, there is no standardized way of associating the basic models in a related manner. Determining that a particular image extension contains the variance or mask for another image relies on string parsing and shared convention. As data acquisition and data reduction systems have become more complex there has been a move to storing multiple image data components in extensions within a single FITS file. The FITS extension mechanism provides a scheme for having multiple images but, as noted in Greisen (2003), in essentially a flat structure without hierarchy or inheritance. If you have nine images in the file there is no way of indicating that three of them are data, three are an error and three are a quality mask. Indeed, there is no way of specifying which triplets are related. You can use the EXTNAME header to indicate relationships but this relies on convention and string parsing rather than being a standard part of the format.\n",
    "\n",
    "SAS processing will generate files from the pipelines. For each file, a set of files will have to be attached to better define the scientific files. The possibility to arrange the information in a hierarchical way is an asset because this feature avoids the creation of rules based on the name of the XENSTION FITS\n",
    "\n",
    "The 8 characters are too restrictive to properly express good semantics. HDF5/NetCDF does not have this constraint\n",
    "\n",
    "| Criteria | FITS | HDF | NetCDF | Remarks |\n",
    "| -------- | ---- | --- |------- | ------- |\n",
    "|Expressivity | + | +++ | +++ |  |"
   ]
  },
  {
   "cell_type": "markdown",
   "metadata": {},
   "source": [
    "# 14 - Mastery\n",
    "<a id=\"mastery\"/>"
   ]
  },
  {
   "cell_type": "markdown",
   "metadata": {},
   "source": [
    "The scientific community in Planetology seems to know better FITS than HDF5/NetCDF. However FITS and HDF5 have a good documentation and implementation in several languages, that allows to handle any format quickly. However, we have to check if the COTS in pipeline supports HDF5 format (astropy does it)"
   ]
  },
  {
   "cell_type": "markdown",
   "metadata": {},
   "source": [
    "| Criteria | FITS | HDF | NetCDF | Remarks |\n",
    "| -------- | ---- | --- |------- | ------- |\n",
    "| Mastery | ++ | + | + | + |"
   ]
  },
  {
   "cell_type": "markdown",
   "metadata": {},
   "source": [
    "# 15 - Processing\n",
    "<a id=\"processing\"/>"
   ]
  },
  {
   "cell_type": "markdown",
   "metadata": {},
   "source": [
    "## 15.1 - Chunks"
   ]
  },
  {
   "cell_type": "markdown",
   "metadata": {},
   "source": [
    "<table><tr><td><img src=\"https://support.hdfgroup.org/HDF5/doc/Advanced/Chunking/Images/Fig001.png\"></td><td><img src=\"https://support.hdfgroup.org/HDF5/doc/Advanced/Chunking/Images/Fig002.png\"></td></tr><tr><td>Contiguous dataset</td><td>Chunked dataset</td></tr></table>"
   ]
  },
  {
   "cell_type": "markdown",
   "metadata": {},
   "source": [
    "<table><tr><td><img src=\"https://support.hdfgroup.org/HDF5/doc/Advanced/Chunking/Images/Fig003.png\"></td><td><img src=\"https://support.hdfgroup.org/HDF5/doc/Advanced/Chunking/Images/Fig004.png\"></td></tr><tr><td>Reading part of a row from a contiguous dataset</td><td>Reading part of a column from a contiguous dataset</td></tr></table>"
   ]
  },
  {
   "cell_type": "markdown",
   "metadata": {},
   "source": [
    "<table><tr><td><img src=\"https://support.hdfgroup.org/HDF5/doc/Advanced/Chunking/Images/Fig005.png\"></td></tr><tr><td>Reading part of a column from a chunked dataset</td></tr></table>"
   ]
  },
  {
   "cell_type": "markdown",
   "metadata": {},
   "source": [
    "### 15.1.1 - FITS"
   ]
  },
  {
   "cell_type": "code",
   "execution_count": 28,
   "metadata": {},
   "outputs": [
    {
     "name": "stdout",
     "output_type": "stream",
     "text": [
      "10 000 records have been modified in 0.032506465911865234 seconde\n",
      "[56. 56. 56. ... 56. 56. 56.]\n"
     ]
    }
   ],
   "source": [
    "data = np.ones((10000, 10000), dtype=np.float64)\n",
    "new_hdul = fits.HDUList()\n",
    "new_hdul.append(fits.ImageHDU(data=data))\n",
    "new_hdul.writeto('./mon_fichier.fits', overwrite=True)\n",
    "\n",
    "new_hdul = fits.open(\"./mon_fichier.fits\", mode='update')\n",
    "start = time.time()\n",
    "hdu_data = new_hdul[0].data\n",
    "hdu_data[:, 2] = 56 * hdu_data[:, 3]\n",
    "end = time.time()\n",
    "print(\"10 000 records have been modified in {} seconde\".format(end - start))\n",
    "new_hdul.close()\n",
    "\n",
    "new_hdul = fits.open(\"./mon_fichier.fits\")\n",
    "hdu_data = new_hdul[0].data\n",
    "print(hdu_data[:, 2])\n",
    "new_hdul.close()         "
   ]
  },
  {
   "cell_type": "markdown",
   "metadata": {},
   "source": [
    "### 15.1.2 - HDF5 without Chunks"
   ]
  },
  {
   "cell_type": "code",
   "execution_count": 29,
   "metadata": {},
   "outputs": [
    {
     "name": "stdout",
     "output_type": "stream",
     "text": [
      "10 000 records have been modified in 0.23512744903564453 seconde\n",
      "[56. 56. 56. 56. 56. 56. 56. 56. 56.]\n"
     ]
    }
   ],
   "source": [
    "if os.path.exists(\"./mon_fichier.hdf5\"):\n",
    "    os.remove(\"./mon_fichier.hdf5\")\n",
    "    \n",
    "# Creating a big matrix\n",
    "my_array = np.ones((10000, 10000))\n",
    "\n",
    "# Creating a HDF5\n",
    "my_file = h5py.File('./mon_fichier.hdf5', 'w')\n",
    "my_dataset = my_file.create_dataset(\"fichier de demo2\", data=my_array)\n",
    "my_file.flush()\n",
    "my_file.close()\n",
    "\n",
    "# Now, numerical data are easily accessible\n",
    "start = time.time()\n",
    "my_file = h5py.File('./mon_fichier.hdf5', 'r+')\n",
    "my_file[\"fichier de demo2\"][:,2]=56*my_file[\"fichier de demo2\"][:,3]\n",
    "my_file.flush()\n",
    "end = time.time()\n",
    "print(\"10 000 records have been modified in {} seconde\".format(end - start))\n",
    "my_file.close()\n",
    "\n",
    "my_file = h5py.File('./mon_fichier.hdf5', 'r')\n",
    "my_dataset = my_file[\"fichier de demo2\"][:]\n",
    "print(my_dataset[1:10, 2])\n",
    "my_file.close()"
   ]
  },
  {
   "cell_type": "markdown",
   "metadata": {},
   "source": [
    "### 15.1.3 - HDF5 with automatic Chunks"
   ]
  },
  {
   "cell_type": "markdown",
   "metadata": {},
   "source": [
    "The “auto-chunker” tries to keep chunks mostly “square” (in N dimensions) and within certain size limits. It’s also invoked when you specify the use of compression or other filters without explicitly providing a chunk shape.\n",
    "\n",
    "By the way, the reason the automatically generated chunks are “square” in N dimensions is that the auto-chunker has no idea what you’re planning to do with the dataset, and is hedging its bets. It’s ideal for people who just want to compress a dataset and don’t want to bother with the details, but less ideal for those with specific time-critical access patterns."
   ]
  },
  {
   "cell_type": "code",
   "execution_count": 30,
   "metadata": {},
   "outputs": [
    {
     "name": "stdout",
     "output_type": "stream",
     "text": [
      "(79, 157)\n",
      "10 000 records have been modified in 0.007293701171875 seconde\n",
      "[56. 56. 56. 56. 56. 56. 56. 56. 56.]\n"
     ]
    }
   ],
   "source": [
    "if os.path.exists(\"./mon_fichier.hdf5\"):\n",
    "    os.remove(\"./mon_fichier.hdf5\")\n",
    "    \n",
    "# Creating a big matrix\n",
    "my_array = np.ones((10000, 10000))\n",
    "\n",
    "# Creating a HDF5\n",
    "my_file = h5py.File('./mon_fichier.hdf5', 'w')\n",
    "my_dataset = my_file.create_dataset(\"fichier de demo2\", data=my_array, chunks=True)\n",
    "print(my_dataset.chunks)\n",
    "my_file.flush()\n",
    "my_file.close()\n",
    "\n",
    "# Now, numerical data are easily accessible\n",
    "start = time.time()\n",
    "my_file = h5py.File('./mon_fichier.hdf5', 'r+')\n",
    "my_file[\"fichier de demo2\"][:,2]=56*my_file[\"fichier de demo2\"][:,3]\n",
    "my_file.flush()\n",
    "end = time.time()\n",
    "print(\"10 000 records have been modified in {} seconde\".format(end - start))\n",
    "my_file.close()\n",
    "\n",
    "my_file = h5py.File('./mon_fichier.hdf5', 'r')\n",
    "my_dataset = my_file[\"fichier de demo2\"][:]\n",
    "print(my_dataset[1:10, 2])\n",
    "my_file.close()"
   ]
  },
  {
   "cell_type": "markdown",
   "metadata": {},
   "source": [
    "### 15.1.4 - HDF5 with custom Chunks"
   ]
  },
  {
   "cell_type": "code",
   "execution_count": 31,
   "metadata": {},
   "outputs": [
    {
     "name": "stdout",
     "output_type": "stream",
     "text": [
      "(10000, 1)\n",
      "10 000 records have been modified in 0.0010159015655517578 seconde\n",
      "[56. 56. 56. 56. 56. 56. 56. 56. 56.]\n"
     ]
    }
   ],
   "source": [
    "if os.path.exists(\"./mon_fichier.hdf5\"):\n",
    "    os.remove(\"./mon_fichier.hdf5\")\n",
    "    \n",
    "# Creating a big matrix\n",
    "my_array = np.ones((10000, 10000))\n",
    "\n",
    "# Creating a HDF5\n",
    "my_file = h5py.File('./mon_fichier.hdf5', 'w')\n",
    "my_dataset = my_file.create_dataset(\"fichier de demo2\", data=my_array, chunks=(10000,1))\n",
    "print(my_dataset.chunks)\n",
    "my_file.flush()\n",
    "my_file.close()\n",
    "\n",
    "# Now, numerical data are easily accessible\n",
    "start = time.time()\n",
    "my_file = h5py.File('./mon_fichier.hdf5', 'r+')\n",
    "my_file[\"fichier de demo2\"][:,2]=56*my_file[\"fichier de demo2\"][:,3]\n",
    "my_file.flush()\n",
    "end = time.time()\n",
    "print(\"10 000 records have been modified in {} seconde\".format(end - start))\n",
    "my_file.close()\n",
    "\n",
    "my_file = h5py.File('./mon_fichier.hdf5', 'r')\n",
    "my_dataset = my_file[\"fichier de demo2\"][:]\n",
    "print(my_dataset[1:10, 2])\n",
    "my_file.close()"
   ]
  },
  {
   "cell_type": "markdown",
   "metadata": {},
   "source": [
    "## 15.2 - Cache"
   ]
  },
  {
   "cell_type": "markdown",
   "metadata": {},
   "source": [
    "<img src=\"https://support.hdfgroup.org/HDF5/doc/Advanced/Chunking/Images/Fig006.png\">\n",
    "\n",
    "h5py_cache : https://github.com/moble/h5py_cache"
   ]
  },
  {
   "cell_type": "markdown",
   "metadata": {},
   "source": [
    "## 15.3 - Virtual dataset"
   ]
  },
  {
   "cell_type": "markdown",
   "metadata": {},
   "source": [
    "<img src=\"https://support.hdfgroup.org/images/tutrvds-ex.png\">\n",
    "\n",
    "Virtual datasets allow a number of real datasets to be mapped together into a single, sliceable dataset via an interface layer. The mapping can be made ahead of time, before the parent files are written, and is transparent to the parent dataset characteristics (SWMR, chunking, compression etc…). The datasets can be meshed in arbitrary combinations, and even the data type converted.\n",
    "\n",
    "Once a virtual dataset has been created, it can be read just like any other HDF5 dataset."
   ]
  },
  {
   "cell_type": "code",
   "execution_count": 32,
   "metadata": {},
   "outputs": [
    {
     "name": "stdout",
     "output_type": "stream",
     "text": [
      "Virtual dataset:\n",
      "[[ 1  2  3  4  5  6  7  8  9 10]\n",
      " [ 2  3  4  5  6  7  8  9 10 11]\n",
      " [ 3  4  5  6  7  8  9 10 11 12]\n",
      " [ 4  5  6  7  8  9 10 11 12 13]]\n",
      "Normal dataset:\n",
      "[[ 1  2  3  4  5  6  7  8  9 10]\n",
      " [ 2  3  4  5  6  7  8  9 10 11]\n",
      " [ 3  4  5  6  7  8  9 10 11 12]\n",
      " [ 4  5  6  7  8  9 10 11 12 13]]\n"
     ]
    }
   ],
   "source": [
    "# create some sample data\n",
    "data = np.arange(0, 100).reshape(1, 100) + np.arange(1, 5).reshape(4, 1)\n",
    "\n",
    "# Create source files (0.h5 to 3.h5)\n",
    "for n in range(4):\n",
    "    with h5py.File(f\"{n}.h5\", \"w\") as f:\n",
    "        d = f.create_dataset(\"data\", (100,), \"i4\", data[n])\n",
    "\n",
    "# Assemble virtual dataset\n",
    "layout = h5py.VirtualLayout(shape=(4, 100), dtype=\"i4\")\n",
    "for n in range(4):\n",
    "    filename = \"{}.h5\".format(n)\n",
    "    vsource = h5py.VirtualSource(filename, \"data\", shape=(100,))\n",
    "    layout[n] = vsource\n",
    "\n",
    "# Add virtual dataset to output file\n",
    "with h5py.File(\"VDS.h5\", \"w\", libver=\"latest\") as f:\n",
    "    f.create_virtual_dataset(\"vdata\", layout, fillvalue=-5)\n",
    "    f.create_dataset(\"data\", data=data, dtype=\"i4\")\n",
    "\n",
    "\n",
    "# read data back\n",
    "# virtual dataset is transparent for reader!\n",
    "with h5py.File(\"VDS.h5\", \"r\") as f:\n",
    "    print(\"Virtual dataset:\")\n",
    "    print(f[\"vdata\"][:, :10])\n",
    "    print(\"Normal dataset:\")\n",
    "    print(f[\"data\"][:, :10])"
   ]
  },
  {
   "cell_type": "markdown",
   "metadata": {},
   "source": [
    "## 15.4 - Query capabilities"
   ]
  },
  {
   "cell_type": "code",
   "execution_count": 33,
   "metadata": {},
   "outputs": [
    {
     "data": {
      "text/html": [
       "<div>\n",
       "<style scoped>\n",
       "    .dataframe tbody tr th:only-of-type {\n",
       "        vertical-align: middle;\n",
       "    }\n",
       "\n",
       "    .dataframe tbody tr th {\n",
       "        vertical-align: top;\n",
       "    }\n",
       "\n",
       "    .dataframe thead th {\n",
       "        text-align: right;\n",
       "    }\n",
       "</style>\n",
       "<table border=\"1\" class=\"dataframe\">\n",
       "  <thead>\n",
       "    <tr style=\"text-align: right;\">\n",
       "      <th></th>\n",
       "      <th></th>\n",
       "      <th>id2</th>\n",
       "      <th>w</th>\n",
       "    </tr>\n",
       "    <tr>\n",
       "      <th>id</th>\n",
       "      <th>date</th>\n",
       "      <th></th>\n",
       "      <th></th>\n",
       "    </tr>\n",
       "  </thead>\n",
       "  <tbody>\n",
       "    <tr>\n",
       "      <th rowspan=\"5\" valign=\"top\">10000</th>\n",
       "      <th>1980-01-01</th>\n",
       "      <td>815</td>\n",
       "      <td>0.949526</td>\n",
       "    </tr>\n",
       "    <tr>\n",
       "      <th>1980-01-02</th>\n",
       "      <td>723</td>\n",
       "      <td>-0.602331</td>\n",
       "    </tr>\n",
       "    <tr>\n",
       "      <th>1980-01-03</th>\n",
       "      <td>294</td>\n",
       "      <td>0.136814</td>\n",
       "    </tr>\n",
       "    <tr>\n",
       "      <th>1980-01-04</th>\n",
       "      <td>53</td>\n",
       "      <td>-0.667432</td>\n",
       "    </tr>\n",
       "    <tr>\n",
       "      <th>1980-01-05</th>\n",
       "      <td>204</td>\n",
       "      <td>-0.968114</td>\n",
       "    </tr>\n",
       "    <tr>\n",
       "      <th>...</th>\n",
       "      <th>...</th>\n",
       "      <td>...</td>\n",
       "      <td>...</td>\n",
       "    </tr>\n",
       "    <tr>\n",
       "      <th rowspan=\"5\" valign=\"top\">10999</th>\n",
       "      <th>2007-05-14</th>\n",
       "      <td>277</td>\n",
       "      <td>-0.117947</td>\n",
       "    </tr>\n",
       "    <tr>\n",
       "      <th>2007-05-15</th>\n",
       "      <td>22</td>\n",
       "      <td>3.062915</td>\n",
       "    </tr>\n",
       "    <tr>\n",
       "      <th>2007-05-16</th>\n",
       "      <td>845</td>\n",
       "      <td>0.629042</td>\n",
       "    </tr>\n",
       "    <tr>\n",
       "      <th>2007-05-17</th>\n",
       "      <td>629</td>\n",
       "      <td>0.253823</td>\n",
       "    </tr>\n",
       "    <tr>\n",
       "      <th>2007-05-18</th>\n",
       "      <td>387</td>\n",
       "      <td>-0.948502</td>\n",
       "    </tr>\n",
       "  </tbody>\n",
       "</table>\n",
       "<p>10000000 rows × 2 columns</p>\n",
       "</div>"
      ],
      "text/plain": [
       "                  id2         w\n",
       "id    date                     \n",
       "10000 1980-01-01  815  0.949526\n",
       "      1980-01-02  723 -0.602331\n",
       "      1980-01-03  294  0.136814\n",
       "      1980-01-04   53 -0.667432\n",
       "      1980-01-05  204 -0.968114\n",
       "...               ...       ...\n",
       "10999 2007-05-14  277 -0.117947\n",
       "      2007-05-15   22  3.062915\n",
       "      2007-05-16  845  0.629042\n",
       "      2007-05-17  629  0.253823\n",
       "      2007-05-18  387 -0.948502\n",
       "\n",
       "[10000000 rows x 2 columns]"
      ]
     },
     "execution_count": 33,
     "metadata": {},
     "output_type": "execute_result"
    }
   ],
   "source": [
    "np.random.seed(1234)\n",
    "pd.set_option('display.max_rows',20)\n",
    "index = pd.MultiIndex.from_product([np.arange(10000,11000),pd.date_range('19800101',periods=10000)],names=['id','date'])\n",
    "df = pd.DataFrame(dict(id2=np.random.randint(0,1000,size=len(index)),w=np.random.randn(len(index))),index=index).reset_index().set_index(['id','date'])\n",
    "df"
   ]
  },
  {
   "cell_type": "code",
   "execution_count": 34,
   "metadata": {},
   "outputs": [],
   "source": [
    "df.to_hdf('test_pandas.h5','df',mode='w',data_columns=['id2'],format='table')"
   ]
  },
  {
   "cell_type": "code",
   "execution_count": 35,
   "metadata": {},
   "outputs": [
    {
     "name": "stdout",
     "output_type": "stream",
     "text": [
      "-rw-rw-r-- 1 malapert malapert 411M sept. 20 15:57 test_pandas.h5\r\n"
     ]
    }
   ],
   "source": [
    "!ls -lhtr test_pandas.h5"
   ]
  },
  {
   "cell_type": "code",
   "execution_count": 36,
   "metadata": {},
   "outputs": [
    {
     "data": {
      "text/html": [
       "<div>\n",
       "<style scoped>\n",
       "    .dataframe tbody tr th:only-of-type {\n",
       "        vertical-align: middle;\n",
       "    }\n",
       "\n",
       "    .dataframe tbody tr th {\n",
       "        vertical-align: top;\n",
       "    }\n",
       "\n",
       "    .dataframe thead th {\n",
       "        text-align: right;\n",
       "    }\n",
       "</style>\n",
       "<table border=\"1\" class=\"dataframe\">\n",
       "  <thead>\n",
       "    <tr style=\"text-align: right;\">\n",
       "      <th></th>\n",
       "      <th></th>\n",
       "      <th>id2</th>\n",
       "      <th>w</th>\n",
       "    </tr>\n",
       "    <tr>\n",
       "      <th>id</th>\n",
       "      <th>date</th>\n",
       "      <th></th>\n",
       "      <th></th>\n",
       "    </tr>\n",
       "  </thead>\n",
       "  <tbody>\n",
       "    <tr>\n",
       "      <th rowspan=\"5\" valign=\"top\">10000</th>\n",
       "      <th>2001-01-02</th>\n",
       "      <td>102</td>\n",
       "      <td>-0.949548</td>\n",
       "    </tr>\n",
       "    <tr>\n",
       "      <th>2001-01-03</th>\n",
       "      <td>854</td>\n",
       "      <td>-1.279592</td>\n",
       "    </tr>\n",
       "    <tr>\n",
       "      <th>2001-01-04</th>\n",
       "      <td>902</td>\n",
       "      <td>1.785103</td>\n",
       "    </tr>\n",
       "    <tr>\n",
       "      <th>2001-01-05</th>\n",
       "      <td>923</td>\n",
       "      <td>0.250497</td>\n",
       "    </tr>\n",
       "    <tr>\n",
       "      <th>2001-01-06</th>\n",
       "      <td>315</td>\n",
       "      <td>-0.082290</td>\n",
       "    </tr>\n",
       "    <tr>\n",
       "      <th>...</th>\n",
       "      <th>...</th>\n",
       "      <td>...</td>\n",
       "      <td>...</td>\n",
       "    </tr>\n",
       "    <tr>\n",
       "      <th rowspan=\"5\" valign=\"top\">10999</th>\n",
       "      <th>2001-02-24</th>\n",
       "      <td>447</td>\n",
       "      <td>2.125616</td>\n",
       "    </tr>\n",
       "    <tr>\n",
       "      <th>2001-02-25</th>\n",
       "      <td>340</td>\n",
       "      <td>1.574810</td>\n",
       "    </tr>\n",
       "    <tr>\n",
       "      <th>2001-02-26</th>\n",
       "      <td>312</td>\n",
       "      <td>-1.376166</td>\n",
       "    </tr>\n",
       "    <tr>\n",
       "      <th>2001-02-27</th>\n",
       "      <td>918</td>\n",
       "      <td>0.526532</td>\n",
       "    </tr>\n",
       "    <tr>\n",
       "      <th>2001-02-28</th>\n",
       "      <td>215</td>\n",
       "      <td>-0.459580</td>\n",
       "    </tr>\n",
       "  </tbody>\n",
       "</table>\n",
       "<p>58000 rows × 2 columns</p>\n",
       "</div>"
      ],
      "text/plain": [
       "                  id2         w\n",
       "id    date                     \n",
       "10000 2001-01-02  102 -0.949548\n",
       "      2001-01-03  854 -1.279592\n",
       "      2001-01-04  902  1.785103\n",
       "      2001-01-05  923  0.250497\n",
       "      2001-01-06  315 -0.082290\n",
       "...               ...       ...\n",
       "10999 2001-02-24  447  2.125616\n",
       "      2001-02-25  340  1.574810\n",
       "      2001-02-26  312 -1.376166\n",
       "      2001-02-27  918  0.526532\n",
       "      2001-02-28  215 -0.459580\n",
       "\n",
       "[58000 rows x 2 columns]"
      ]
     },
     "execution_count": 36,
     "metadata": {},
     "output_type": "execute_result"
    }
   ],
   "source": [
    "# Queries\n",
    "ids=[10101,10898]\n",
    "start_date='20010101'\n",
    "end_date='20010301'\n",
    "pd.read_hdf('test_pandas.h5','df',where='date>start_date & date<end_date')"
   ]
  },
  {
   "cell_type": "code",
   "execution_count": 37,
   "metadata": {},
   "outputs": [
    {
     "data": {
      "text/html": [
       "<div>\n",
       "<style scoped>\n",
       "    .dataframe tbody tr th:only-of-type {\n",
       "        vertical-align: middle;\n",
       "    }\n",
       "\n",
       "    .dataframe tbody tr th {\n",
       "        vertical-align: top;\n",
       "    }\n",
       "\n",
       "    .dataframe thead th {\n",
       "        text-align: right;\n",
       "    }\n",
       "</style>\n",
       "<table border=\"1\" class=\"dataframe\">\n",
       "  <thead>\n",
       "    <tr style=\"text-align: right;\">\n",
       "      <th></th>\n",
       "      <th></th>\n",
       "      <th>id2</th>\n",
       "      <th>w</th>\n",
       "    </tr>\n",
       "    <tr>\n",
       "      <th>id</th>\n",
       "      <th>date</th>\n",
       "      <th></th>\n",
       "      <th></th>\n",
       "    </tr>\n",
       "  </thead>\n",
       "  <tbody>\n",
       "    <tr>\n",
       "      <th rowspan=\"5\" valign=\"top\">10101</th>\n",
       "      <th>2001-01-02</th>\n",
       "      <td>773</td>\n",
       "      <td>0.370589</td>\n",
       "    </tr>\n",
       "    <tr>\n",
       "      <th>2001-01-03</th>\n",
       "      <td>557</td>\n",
       "      <td>1.701365</td>\n",
       "    </tr>\n",
       "    <tr>\n",
       "      <th>2001-01-04</th>\n",
       "      <td>79</td>\n",
       "      <td>-0.958125</td>\n",
       "    </tr>\n",
       "    <tr>\n",
       "      <th>2001-01-05</th>\n",
       "      <td>512</td>\n",
       "      <td>-0.190940</td>\n",
       "    </tr>\n",
       "    <tr>\n",
       "      <th>2001-01-06</th>\n",
       "      <td>632</td>\n",
       "      <td>0.929633</td>\n",
       "    </tr>\n",
       "    <tr>\n",
       "      <th>...</th>\n",
       "      <th>...</th>\n",
       "      <td>...</td>\n",
       "      <td>...</td>\n",
       "    </tr>\n",
       "    <tr>\n",
       "      <th rowspan=\"5\" valign=\"top\">10898</th>\n",
       "      <th>2001-02-24</th>\n",
       "      <td>122</td>\n",
       "      <td>-0.612245</td>\n",
       "    </tr>\n",
       "    <tr>\n",
       "      <th>2001-02-25</th>\n",
       "      <td>239</td>\n",
       "      <td>0.656354</td>\n",
       "    </tr>\n",
       "    <tr>\n",
       "      <th>2001-02-26</th>\n",
       "      <td>417</td>\n",
       "      <td>0.716874</td>\n",
       "    </tr>\n",
       "    <tr>\n",
       "      <th>2001-02-27</th>\n",
       "      <td>923</td>\n",
       "      <td>2.069831</td>\n",
       "    </tr>\n",
       "    <tr>\n",
       "      <th>2001-02-28</th>\n",
       "      <td>814</td>\n",
       "      <td>-1.031432</td>\n",
       "    </tr>\n",
       "  </tbody>\n",
       "</table>\n",
       "<p>116 rows × 2 columns</p>\n",
       "</div>"
      ],
      "text/plain": [
       "                  id2         w\n",
       "id    date                     \n",
       "10101 2001-01-02  773  0.370589\n",
       "      2001-01-03  557  1.701365\n",
       "      2001-01-04   79 -0.958125\n",
       "      2001-01-05  512 -0.190940\n",
       "      2001-01-06  632  0.929633\n",
       "...               ...       ...\n",
       "10898 2001-02-24  122 -0.612245\n",
       "      2001-02-25  239  0.656354\n",
       "      2001-02-26  417  0.716874\n",
       "      2001-02-27  923  2.069831\n",
       "      2001-02-28  814 -1.031432\n",
       "\n",
       "[116 rows x 2 columns]"
      ]
     },
     "execution_count": 37,
     "metadata": {},
     "output_type": "execute_result"
    }
   ],
   "source": [
    "pd.read_hdf('test_pandas.h5','df',where='date>start_date & date<end_date & id=ids')"
   ]
  },
  {
   "cell_type": "code",
   "execution_count": 38,
   "metadata": {},
   "outputs": [
    {
     "data": {
      "text/html": [
       "<div>\n",
       "<style scoped>\n",
       "    .dataframe tbody tr th:only-of-type {\n",
       "        vertical-align: middle;\n",
       "    }\n",
       "\n",
       "    .dataframe tbody tr th {\n",
       "        vertical-align: top;\n",
       "    }\n",
       "\n",
       "    .dataframe thead th {\n",
       "        text-align: right;\n",
       "    }\n",
       "</style>\n",
       "<table border=\"1\" class=\"dataframe\">\n",
       "  <thead>\n",
       "    <tr style=\"text-align: right;\">\n",
       "      <th></th>\n",
       "      <th></th>\n",
       "      <th>id2</th>\n",
       "      <th>w</th>\n",
       "    </tr>\n",
       "    <tr>\n",
       "      <th>id</th>\n",
       "      <th>date</th>\n",
       "      <th></th>\n",
       "      <th></th>\n",
       "    </tr>\n",
       "  </thead>\n",
       "  <tbody>\n",
       "    <tr>\n",
       "      <th rowspan=\"12\" valign=\"top\">10101</th>\n",
       "      <th>2001-01-03</th>\n",
       "      <td>557</td>\n",
       "      <td>1.701365</td>\n",
       "    </tr>\n",
       "    <tr>\n",
       "      <th>2001-01-05</th>\n",
       "      <td>512</td>\n",
       "      <td>-0.190940</td>\n",
       "    </tr>\n",
       "    <tr>\n",
       "      <th>2001-01-13</th>\n",
       "      <td>509</td>\n",
       "      <td>1.163573</td>\n",
       "    </tr>\n",
       "    <tr>\n",
       "      <th>2001-01-27</th>\n",
       "      <td>552</td>\n",
       "      <td>-0.621127</td>\n",
       "    </tr>\n",
       "    <tr>\n",
       "      <th>2001-01-28</th>\n",
       "      <td>587</td>\n",
       "      <td>-0.041261</td>\n",
       "    </tr>\n",
       "    <tr>\n",
       "      <th>2001-01-31</th>\n",
       "      <td>510</td>\n",
       "      <td>0.403102</td>\n",
       "    </tr>\n",
       "    <tr>\n",
       "      <th>2001-02-04</th>\n",
       "      <td>540</td>\n",
       "      <td>1.193892</td>\n",
       "    </tr>\n",
       "    <tr>\n",
       "      <th>2001-02-06</th>\n",
       "      <td>564</td>\n",
       "      <td>0.651627</td>\n",
       "    </tr>\n",
       "    <tr>\n",
       "      <th>2001-02-22</th>\n",
       "      <td>526</td>\n",
       "      <td>-1.639270</td>\n",
       "    </tr>\n",
       "    <tr>\n",
       "      <th>2001-02-24</th>\n",
       "      <td>542</td>\n",
       "      <td>0.644676</td>\n",
       "    </tr>\n",
       "    <tr>\n",
       "      <th>2001-02-25</th>\n",
       "      <td>562</td>\n",
       "      <td>1.017563</td>\n",
       "    </tr>\n",
       "    <tr>\n",
       "      <th>2001-02-28</th>\n",
       "      <td>548</td>\n",
       "      <td>-0.897565</td>\n",
       "    </tr>\n",
       "    <tr>\n",
       "      <th rowspan=\"7\" valign=\"top\">10898</th>\n",
       "      <th>2001-01-05</th>\n",
       "      <td>507</td>\n",
       "      <td>-0.426787</td>\n",
       "    </tr>\n",
       "    <tr>\n",
       "      <th>2001-01-12</th>\n",
       "      <td>586</td>\n",
       "      <td>0.951064</td>\n",
       "    </tr>\n",
       "    <tr>\n",
       "      <th>2001-01-17</th>\n",
       "      <td>512</td>\n",
       "      <td>-0.097563</td>\n",
       "    </tr>\n",
       "    <tr>\n",
       "      <th>2001-01-21</th>\n",
       "      <td>580</td>\n",
       "      <td>-1.355334</td>\n",
       "    </tr>\n",
       "    <tr>\n",
       "      <th>2001-01-26</th>\n",
       "      <td>595</td>\n",
       "      <td>0.387335</td>\n",
       "    </tr>\n",
       "    <tr>\n",
       "      <th>2001-01-31</th>\n",
       "      <td>588</td>\n",
       "      <td>-0.281337</td>\n",
       "    </tr>\n",
       "    <tr>\n",
       "      <th>2001-02-09</th>\n",
       "      <td>511</td>\n",
       "      <td>0.114142</td>\n",
       "    </tr>\n",
       "  </tbody>\n",
       "</table>\n",
       "</div>"
      ],
      "text/plain": [
       "                  id2         w\n",
       "id    date                     \n",
       "10101 2001-01-03  557  1.701365\n",
       "      2001-01-05  512 -0.190940\n",
       "      2001-01-13  509  1.163573\n",
       "      2001-01-27  552 -0.621127\n",
       "      2001-01-28  587 -0.041261\n",
       "      2001-01-31  510  0.403102\n",
       "      2001-02-04  540  1.193892\n",
       "      2001-02-06  564  0.651627\n",
       "      2001-02-22  526 -1.639270\n",
       "      2001-02-24  542  0.644676\n",
       "      2001-02-25  562  1.017563\n",
       "      2001-02-28  548 -0.897565\n",
       "10898 2001-01-05  507 -0.426787\n",
       "      2001-01-12  586  0.951064\n",
       "      2001-01-17  512 -0.097563\n",
       "      2001-01-21  580 -1.355334\n",
       "      2001-01-26  595  0.387335\n",
       "      2001-01-31  588 -0.281337\n",
       "      2001-02-09  511  0.114142"
      ]
     },
     "execution_count": 38,
     "metadata": {},
     "output_type": "execute_result"
    }
   ],
   "source": [
    "pd.read_hdf('test_pandas.h5','df',where='date>start_date & date<end_date & id=ids & id2>500 & id2<600')"
   ]
  },
  {
   "cell_type": "markdown",
   "metadata": {},
   "source": [
    "## 15.5 - HPC"
   ]
  },
  {
   "cell_type": "markdown",
   "metadata": {},
   "source": [
    "https://discourse.pangeo.io/t/best-practices-to-go-from-1000s-of-netcdf-files-to-analyses-on-a-hpc-cluster/588\n",
    "\n",
    "Demo on GAIA : https://www.youtube.com/watch?v=CQHH5_74O0E&ab_channel=ADASS2020\n",
    "\n",
    "73 GB cube analyzed in a few seconds!"
   ]
  },
  {
   "cell_type": "markdown",
   "metadata": {},
   "source": [
    "## 15.6 - Conclusion"
   ]
  },
  {
   "cell_type": "markdown",
   "metadata": {},
   "source": [
    "| Criteria | FITS | HDF | NetCDF | Remarks |\n",
    "| -------- | ---- | --- |------- | ------- |\n",
    "| Processing | + | +++ | +++ |  |"
   ]
  },
  {
   "cell_type": "markdown",
   "metadata": {},
   "source": [
    "## 16 -  Conclusion\n",
    "<a id=\"conlusion\"/>"
   ]
  },
  {
   "cell_type": "markdown",
   "metadata": {},
   "source": [
    "| Criteria | FITS | HDF | NetCDF | Remarks |\n",
    "| -------- | ---- | --- |------- | ------- |\n",
    "| User community / Sociability | +++ | + | + |  |\n",
    "| Documentation | + | ++ | ++ |  |\n",
    "| Freedom of use | + | + | + |  |\n",
    "| Independence / autonomy | + | ++ | ++ |  |\n",
    "| Robustness | + | + | + |  |\n",
    "| Compactness | + | ++ | ++ | one '+' for FITS/HDF5/NetCDF4 because it is possible to add compression algorihtm by a plugin system|\n",
    "| Availability tools for processing tools | + | + | + |  |\n",
    "| Content additional embedded | + | +++ | +++ | |\n",
    "| Simplicity | ++ | + | + |  |\n",
    "| Stability / evolutivity | + | +++ | +++ |  |\n",
    "| Openness | + | + | + |  |\n",
    "|Expressivity | + | +++ | +++ |  |\n",
    "| Mastery | ++ | + | + | + |\n",
    "| Processing | + | +++ | +++ |  |\n",
    "| Total | 18 | 25 | 25 |  |"
   ]
  },
  {
   "cell_type": "code",
   "execution_count": null,
   "metadata": {},
   "outputs": [],
   "source": []
  }
 ],
 "metadata": {
  "celltoolbar": "Format de la Cellule Texte Brut",
  "kernelspec": {
   "display_name": "Python 3",
   "language": "python",
   "name": "python3"
  },
  "language_info": {
   "codemirror_mode": {
    "name": "ipython",
    "version": 3
   },
   "file_extension": ".py",
   "mimetype": "text/x-python",
   "name": "python",
   "nbconvert_exporter": "python",
   "pygments_lexer": "ipython3",
   "version": "3.8.10"
  }
 },
 "nbformat": 4,
 "nbformat_minor": 4
}
